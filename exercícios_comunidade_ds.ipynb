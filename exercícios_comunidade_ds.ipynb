{
  "nbformat": 4,
  "nbformat_minor": 0,
  "metadata": {
    "colab": {
      "provenance": [],
      "authorship_tag": "ABX9TyPLSa7mn1eju2/KJ3wkl8xt",
      "include_colab_link": true
    },
    "kernelspec": {
      "name": "python3",
      "display_name": "Python 3"
    },
    "language_info": {
      "name": "python"
    }
  },
  "cells": [
    {
      "cell_type": "markdown",
      "metadata": {
        "id": "view-in-github",
        "colab_type": "text"
      },
      "source": [
        "<a href=\"https://colab.research.google.com/github/jeniferGoncalvesDaSilvaDev/data-analytics-python-master/blob/master/exerc%C3%ADcios_comunidade_ds.ipynb\" target=\"_parent\"><img src=\"https://colab.research.google.com/assets/colab-badge.svg\" alt=\"Open In Colab\"/></a>"
      ]
    },
    {
      "cell_type": "code",
      "execution_count": null,
      "metadata": {
        "colab": {
          "base_uri": "https://localhost:8080/"
        },
        "id": "0nE0JGBhxAyN",
        "outputId": "b645e4e8-aeb3-4e9c-cd88-f0c3da3d463a"
      },
      "outputs": [
        {
          "output_type": "execute_result",
          "data": {
            "text/plain": [
              "40"
            ]
          },
          "metadata": {},
          "execution_count": 2
        }
      ],
      "source": [
        "#calcular a soma  de\n",
        "#10 com 30\n",
        "def soma_1(n1,n2):\n",
        "  return n1+n2\n",
        "soma_1(10,30)"
      ]
    },
    {
      "cell_type": "code",
      "source": [
        "def soma_2(n1,n2,n3,n4):\n",
        "   return n1+n2+n3+n4\n",
        "soma_2(10,300,0.4,10)"
      ],
      "metadata": {
        "colab": {
          "base_uri": "https://localhost:8080/"
        },
        "id": "BU7cC8GZx8IA",
        "outputId": "7c4ac43f-b121-4c36-beab-c9498d506220"
      },
      "execution_count": null,
      "outputs": [
        {
          "output_type": "execute_result",
          "data": {
            "text/plain": [
              "320.4"
            ]
          },
          "metadata": {},
          "execution_count": 3
        }
      ]
    },
    {
      "cell_type": "code",
      "source": [
        "def media_ponderada(n):\n",
        "  media_ponderada = (n*0.5)+(n*1.0)+(n*1.5) +(n*2.0) +(n*2.5)+(n*3.0)+(n*3.5)+(n*4.0)\n",
        "  return media_ponderada\n",
        "for i in range(0,8):\n",
        "  n = int(input('Insira um valor: '))\n",
        "media_ponderada(n)"
      ],
      "metadata": {
        "id": "sDYcsZg1yZvS",
        "outputId": "35fefa2f-6464-4c14-d8eb-53d35dee061c",
        "colab": {
          "base_uri": "https://localhost:8080/"
        }
      },
      "execution_count": null,
      "outputs": [
        {
          "name": "stdout",
          "output_type": "stream",
          "text": [
            "Insira um valor: 340\n",
            "Insira um valor: 560\n",
            "Insira um valor: 450\n",
            "Insira um valor: 346\n",
            "Insira um valor: 238\n",
            "Insira um valor: 470\n",
            "Insira um valor: 120\n",
            "Insira um valor: 567\n"
          ]
        },
        {
          "output_type": "execute_result",
          "data": {
            "text/plain": [
              "10206.0"
            ]
          },
          "metadata": {},
          "execution_count": 4
        }
      ]
    },
    {
      "cell_type": "code",
      "source": [
        "dados =[]\n",
        "pesos=[]\n",
        "for i in range(0,8):\n",
        "  n =int(input('insira um valor:'))\n",
        "  dados.append(n)\n",
        "print(dados)\n",
        "for j in range(0,8):\n",
        "   m=float(input('insira um valor: '))\n",
        "   pesos.append(m)\n",
        "print(pesos)\n",
        "soma_pesos=[]\n",
        "def media_ponderada_2():\n",
        "   for index in range(0,len(dados)):\n",
        "     calc_peso = dados[index]*pesos[index]\n",
        "     soma_pesos.append(calc_peso)\n",
        "   print(soma_pesos)\n",
        "   media_ponderada = sum(soma_pesos)/len(soma_pesos)\n",
        "   print(media_ponderada)\n",
        "media_ponderada_2()"
      ],
      "metadata": {
        "id": "xJupNNU02wj8",
        "outputId": "b1d37007-0882-4b3b-d72a-555df19dba87",
        "colab": {
          "base_uri": "https://localhost:8080/"
        }
      },
      "execution_count": null,
      "outputs": [
        {
          "output_type": "stream",
          "name": "stdout",
          "text": [
            "insira um valor:234\n",
            "insira um valor:456\n",
            "insira um valor:788\n",
            "insira um valor:456\n",
            "insira um valor:678\n",
            "insira um valor:900\n",
            "insira um valor:234\n",
            "insira um valor:678\n",
            "[234, 456, 788, 456, 678, 900, 234, 678]\n",
            "insira um valor: 0.5\n",
            "insira um valor: 1.9\n",
            "insira um valor: 2.0\n",
            "insira um valor: 2.5\n",
            "insira um valor: 3.0\n",
            "insira um valor: 3.5\n",
            "insira um valor: 4.0\n",
            "insira um valor: 4.5\n",
            "[0.5, 1.9, 2.0, 2.5, 3.0, 3.5, 4.0, 4.5]\n",
            "[117.0, 866.4, 1576.0, 1140.0, 2034.0, 3150.0, 936.0, 3051.0]\n",
            "1608.8\n"
          ]
        }
      ]
    },
    {
      "cell_type": "code",
      "source": [
        "def mini_calculadora(n):\n",
        "   if n<=5:\n",
        "     return n*5\n",
        "   elif n>=6 and n<=10:\n",
        "      return n*20\n",
        "   elif n>=11:\n",
        "       return n*100\n",
        "n=int(input('insira um número: '))\n",
        "mini_calculadora(n)"
      ],
      "metadata": {
        "id": "216xt7NaHY8O",
        "outputId": "8ef2ff57-fb92-42b6-f5f9-07e6c0c1ac42",
        "colab": {
          "base_uri": "https://localhost:8080/"
        }
      },
      "execution_count": 4,
      "outputs": [
        {
          "name": "stdout",
          "output_type": "stream",
          "text": [
            "insira um número: 9\n"
          ]
        },
        {
          "output_type": "execute_result",
          "data": {
            "text/plain": [
              "180"
            ]
          },
          "metadata": {},
          "execution_count": 4
        }
      ]
    }
  ]
}