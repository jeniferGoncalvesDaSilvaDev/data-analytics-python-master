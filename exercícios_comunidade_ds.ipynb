{
  "nbformat": 4,
  "nbformat_minor": 0,
  "metadata": {
    "colab": {
      "provenance": [],
      "authorship_tag": "ABX9TyPC+JfC/afqCiFEJ2HtqeQc",
      "include_colab_link": true
    },
    "kernelspec": {
      "name": "python3",
      "display_name": "Python 3"
    },
    "language_info": {
      "name": "python"
    }
  },
  "cells": [
    {
      "cell_type": "markdown",
      "metadata": {
        "id": "view-in-github",
        "colab_type": "text"
      },
      "source": [
        "<a href=\"https://colab.research.google.com/github/jeniferGoncalvesDaSilvaDev/data-analytics-python-master/blob/master/exerc%C3%ADcios_comunidade_ds.ipynb\" target=\"_parent\"><img src=\"https://colab.research.google.com/assets/colab-badge.svg\" alt=\"Open In Colab\"/></a>"
      ]
    },
    {
      "cell_type": "code",
      "execution_count": 2,
      "metadata": {
        "colab": {
          "base_uri": "https://localhost:8080/"
        },
        "id": "0nE0JGBhxAyN",
        "outputId": "b645e4e8-aeb3-4e9c-cd88-f0c3da3d463a"
      },
      "outputs": [
        {
          "output_type": "execute_result",
          "data": {
            "text/plain": [
              "40"
            ]
          },
          "metadata": {},
          "execution_count": 2
        }
      ],
      "source": [
        "#calcular a soma  de\n",
        "#10 com 30\n",
        "def soma_1(n1,n2):\n",
        "  return n1+n2\n",
        "soma_1(10,30)"
      ]
    },
    {
      "cell_type": "code",
      "source": [
        "def soma_2(n1,n2,n3,n4):\n",
        "   return n1+n2+n3+n4\n",
        "soma_2(10,300,0.4,10)"
      ],
      "metadata": {
        "colab": {
          "base_uri": "https://localhost:8080/"
        },
        "id": "BU7cC8GZx8IA",
        "outputId": "7c4ac43f-b121-4c36-beab-c9498d506220"
      },
      "execution_count": 3,
      "outputs": [
        {
          "output_type": "execute_result",
          "data": {
            "text/plain": [
              "320.4"
            ]
          },
          "metadata": {},
          "execution_count": 3
        }
      ]
    },
    {
      "cell_type": "code",
      "source": [],
      "metadata": {
        "id": "sDYcsZg1yZvS"
      },
      "execution_count": null,
      "outputs": []
    }
  ]
}