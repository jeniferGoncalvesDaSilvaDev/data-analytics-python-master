{
  "nbformat": 4,
  "nbformat_minor": 0,
  "metadata": {
    "colab": {
      "provenance": [],
      "authorship_tag": "ABX9TyOd1nvD7cKJhVUDb30ZdOQ9",
      "include_colab_link": true
    },
    "kernelspec": {
      "name": "python3",
      "display_name": "Python 3"
    },
    "language_info": {
      "name": "python"
    }
  },
  "cells": [
    {
      "cell_type": "markdown",
      "metadata": {
        "id": "view-in-github",
        "colab_type": "text"
      },
      "source": [
        "<a href=\"https://colab.research.google.com/github/jeniferGoncalvesDaSilvaDev/data-analytics-python-master/blob/master/exerc%C3%ADcios_comunidade_ds.ipynb\" target=\"_parent\"><img src=\"https://colab.research.google.com/assets/colab-badge.svg\" alt=\"Open In Colab\"/></a>"
      ]
    },
    {
      "cell_type": "code",
      "execution_count": null,
      "metadata": {
        "colab": {
          "base_uri": "https://localhost:8080/"
        },
        "id": "0nE0JGBhxAyN",
        "outputId": "b645e4e8-aeb3-4e9c-cd88-f0c3da3d463a"
      },
      "outputs": [
        {
          "output_type": "execute_result",
          "data": {
            "text/plain": [
              "40"
            ]
          },
          "metadata": {},
          "execution_count": 2
        }
      ],
      "source": [
        "#calcular a soma  de\n",
        "#10 com 30\n",
        "def soma_1(n1,n2):\n",
        "  return n1+n2\n",
        "soma_1(10,30)"
      ]
    },
    {
      "cell_type": "code",
      "source": [
        "def soma_2(n1,n2,n3,n4):\n",
        "   return n1+n2+n3+n4\n",
        "soma_2(10,300,0.4,10)"
      ],
      "metadata": {
        "colab": {
          "base_uri": "https://localhost:8080/"
        },
        "id": "BU7cC8GZx8IA",
        "outputId": "7c4ac43f-b121-4c36-beab-c9498d506220"
      },
      "execution_count": null,
      "outputs": [
        {
          "output_type": "execute_result",
          "data": {
            "text/plain": [
              "320.4"
            ]
          },
          "metadata": {},
          "execution_count": 3
        }
      ]
    },
    {
      "cell_type": "code",
      "source": [
        "def media_ponderada(n):\n",
        "  media_ponderada = (n*0.5)+(n*1.0)+(n*1.5) +(n*2.0) +(n*2.5)+(n*3.0)+(n*3.5)+(n*4.0)\n",
        "  return media_ponderada\n",
        "for i in range(0,8):\n",
        "  n = int(input('Insira um valor: '))\n",
        "media_ponderada(n)"
      ],
      "metadata": {
        "id": "sDYcsZg1yZvS",
        "outputId": "35fefa2f-6464-4c14-d8eb-53d35dee061c",
        "colab": {
          "base_uri": "https://localhost:8080/"
        }
      },
      "execution_count": 4,
      "outputs": [
        {
          "name": "stdout",
          "output_type": "stream",
          "text": [
            "Insira um valor: 340\n",
            "Insira um valor: 560\n",
            "Insira um valor: 450\n",
            "Insira um valor: 346\n",
            "Insira um valor: 238\n",
            "Insira um valor: 470\n",
            "Insira um valor: 120\n",
            "Insira um valor: 567\n"
          ]
        },
        {
          "output_type": "execute_result",
          "data": {
            "text/plain": [
              "10206.0"
            ]
          },
          "metadata": {},
          "execution_count": 4
        }
      ]
    },
    {
      "cell_type": "code",
      "source": [
        "dados =[]\n",
        "pesos=[]\n",
        "for i in range(0,8):\n",
        "  n =int(input('insira um valor:'))\n",
        "  dados.append(n)\n",
        "print(dados)\n",
        "for j in range(0,8):\n",
        "   m=float(input('insira um valor: '))\n",
        "   pesos.append(m)\n",
        "print(pesos)\n",
        "def media_ponderada_2():\n",
        "   for index in dados:\n",
        "     print(index)\n",
        "media_ponderada_2()"
      ],
      "metadata": {
        "id": "xJupNNU02wj8",
        "outputId": "9d284d25-b9ac-4a43-aa0d-24e47b243e71",
        "colab": {
          "base_uri": "https://localhost:8080/"
        }
      },
      "execution_count": 10,
      "outputs": [
        {
          "output_type": "stream",
          "name": "stdout",
          "text": [
            "insira um valor:300\n",
            "insira um valor:400\n",
            "insira um valor:500\n",
            "insira um valor:600\n",
            "insira um valor:700\n",
            "insira um valor:800\n",
            "insira um valor:900\n",
            "insira um valor:1000\n",
            "[300, 400, 500, 600, 700, 800, 900, 1000]\n",
            "insira um valor: 0.5\n",
            "insira um valor: 1.0\n",
            "insira um valor: 1.5\n",
            "insira um valor: 2.0\n",
            "insira um valor: 2.5\n",
            "insira um valor: 3.0\n",
            "insira um valor: 3.5\n",
            "insira um valor: 4.0\n",
            "[0.5, 1.0, 1.5, 2.0, 2.5, 3.0, 3.5, 4.0]\n",
            "300\n",
            "400\n",
            "500\n",
            "600\n",
            "700\n",
            "800\n",
            "900\n",
            "1000\n"
          ]
        }
      ]
    }
  ]
}